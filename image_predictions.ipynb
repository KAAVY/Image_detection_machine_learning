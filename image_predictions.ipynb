{
  "nbformat": 4,
  "nbformat_minor": 0,
  "metadata": {
    "colab": {
      "name": "image_predictions.ipynb",
      "provenance": [],
      "authorship_tag": "ABX9TyMM0CcQD92SRwtmdLKeHLD9",
      "include_colab_link": true
    },
    "kernelspec": {
      "name": "python3",
      "display_name": "Python 3"
    }
  },
  "cells": [
    {
      "cell_type": "markdown",
      "metadata": {
        "id": "view-in-github",
        "colab_type": "text"
      },
      "source": [
        "<a href=\"https://colab.research.google.com/github/KAAVY/Image_detection_machine_learning/blob/master/image_predictions.ipynb\" target=\"_parent\"><img src=\"https://colab.research.google.com/assets/colab-badge.svg\" alt=\"Open In Colab\"/></a>"
      ]
    },
    {
      "cell_type": "markdown",
      "metadata": {
        "id": "Jc95DHKfRsQb",
        "colab_type": "text"
      },
      "source": [
        "Image Prediction using an model imported from teachable machines.\n",
        "for test_photo image use below link\n",
        "https://drive.google.com/open?id=1K6a8E9cJrNYvESArRYV_dbUCM4tcTHeS\n",
        "keras_model.h5 file use the following link\n",
        "https://drive.google.com/open?id=1_jBB2vyZqnfWfBlIMQXI5C-szueIVwXW\n",
        "label for data is given in following link\n",
        "https://drive.google.com/open?id=1I2UiFWspSNjL3C10ITYWFMPEmJ8JNX8v "
      ]
    },
    {
      "cell_type": "code",
      "metadata": {
        "id": "EFknnljO9cj7",
        "colab_type": "code",
        "outputId": "2638ef4e-d9d2-4975-f7fc-53890056cd42",
        "colab": {
          "base_uri": "https://localhost:8080/",
          "height": 51
        }
      },
      "source": [
        "import tensorflow.keras\n",
        "from PIL import Image, ImageOps\n",
        "import numpy as np\n",
        "\n",
        "# Disable scientific notation for clarity\n",
        "np.set_printoptions(suppress=True)\n",
        "\n",
        "# Load the model\n",
        "model = tensorflow.keras.models.load_model('/content/keras_model.h5')\n",
        "\n",
        "# Create the array of the right shape to feed into the keras model\n",
        "# The 'length' or number of images you can put into the array is\n",
        "# determined by the first position in the shape tuple, in this case 1.\n",
        "data = np.ndarray(shape=(1, 224, 224, 3), dtype=np.float32)\n",
        "\n",
        "# Replace this with the path to your image\n",
        "image = Image.open('test_photo.jpg')\n",
        "\n",
        "#resize the image to a 224x224 with the same strategy as in TM2:\n",
        "#resizing the image to be at least 224x224 and then cropping from the center\n",
        "size = (224, 224)\n",
        "image = ImageOps.fit(image, size, Image.ANTIALIAS)\n",
        "\n",
        "#turn the image into a numpy array\n",
        "image_array = np.asarray(image)\n",
        "\n",
        "# display the resized image\n",
        "image.show()\n",
        "\n",
        "# Normalize the image\n",
        "normalized_image_array = (image_array.astype(np.float32) / 127.0) - 1\n",
        "\n",
        "# Load the image into the array\n",
        "data[0] = normalized_image_array\n",
        "\n",
        "# run the inference\n",
        "prediction = model.predict(data)\n",
        "print(prediction)\n"
      ],
      "execution_count": 0,
      "outputs": [
        {
          "output_type": "stream",
          "text": [
            "WARNING:tensorflow:No training configuration found in the save file, so the model was *not* compiled. Compile it manually.\n",
            "[[0.9999652  0.00003481]]\n"
          ],
          "name": "stdout"
        }
      ]
    }
  ]
}